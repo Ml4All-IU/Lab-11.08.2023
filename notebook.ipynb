{
 "cells": [
  {
   "cell_type": "markdown",
   "metadata": {},
   "source": [
    "# Foundations of Neural Networks\n",
    "Lab Author: Calvin Josenhans"
   ]
  },
  {
   "cell_type": "markdown",
   "metadata": {},
   "source": [
    "## About\n",
    "The aim of this lab is to hopefully provide you with a better understanding of the mechanisms at the heart of machine learning and artificial intelligence. We'll build our own learning model from scratch, and use it to ????"
   ]
  },
  {
   "cell_type": "markdown",
   "metadata": {},
   "source": [
    "# Introduction to Neural Networks\n",
    "\n",
    "You're probably already familiar with images like the one below.\n",
    "\n",
    "<img src=\"./images/Neural_network_explain.png\" width=\"500\"/> (wikimedia commons)\n",
    "\n",
    "This depicts an artificial neural network, which is one of many models that can be used in a machine learning system (wikipedia). It attempts to model the way that the human brain works, with connections between individual neurons that transmit signals based on a set of trained weights and biases.\n",
    "\n",
    "## More Neural network explanation\n"
   ]
  },
  {
   "cell_type": "markdown",
   "metadata": {},
   "source": [
    "# Our Own Neural Network\n",
    "Let's say that we want to create a simple neural network that can tell us what color a flower will be in a field.\n",
    "(Picture of flowers)\n",
    "It turns out that we can solve this problem with the simplest possible neural network, consisting of a single neuron called a **perceptron**.\n",
    "\n",
    "## Getting Started with Code\n"
   ]
  },
  {
   "cell_type": "code",
   "execution_count": null,
   "metadata": {},
   "outputs": [],
   "source": [
    "from random import random\n",
    "\n",
    "\n",
    "class Perceptron:\n",
    "    def __init__(self, num_inputs):\n",
    "        self.weights = list(num_inputs)\n",
    "        for i in range(num_inputs):\n",
    "            self.weights[i] = random() * 2 - 1"
   ]
  },
  {
   "cell_type": "markdown",
   "metadata": {},
   "source": [
    "# Sources\n",
    "- https://natureofcode.com/book/chapter-10-neural-networks/\n",
    "- https://commons.wikimedia.org/wiki/File:Neural_network_explain.png\n",
    "- https://en.wikipedia.org/wiki/Machine_learning#Model_assessments"
   ]
  }
 ],
 "metadata": {
  "language_info": {
   "name": "python"
  },
  "orig_nbformat": 4
 },
 "nbformat": 4,
 "nbformat_minor": 2
}
